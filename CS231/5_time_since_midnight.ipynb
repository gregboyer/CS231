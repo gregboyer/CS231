{
 "cells": [
  {
   "cell_type": "markdown",
   "metadata": {},
   "source": [
    "# Assignment 5\n",
    "\n",
    "Demonstrate the use of a generator that indicates for each event in access_log the number of seconds elapsed since the most recent midnight"
   ]
  },
  {
   "cell_type": "code",
   "execution_count": null,
   "metadata": {},
   "outputs": [],
   "source": [
    "'''\n",
    "* Assigment 5\n",
    "* Created by: Gregory Boyer\n",
    "* Due: 9/27/20\n",
    "* CS 231, Fall 2020\n",
    "* Description: Demonstrate the use of a generator that indicates for each event in \n",
    "access_log the number of seconds elapsed since the most recent midnight\n",
    "\n",
    "args:\n",
    "file_path (str): The name of the file gathered via argparse\n",
    "'''\n",
    "\n",
    "#define the file path\n",
    "#file_path = '/etc/httpd/logs/access_log'\n",
    "file_path = 'access_log_sample'\n"
   ]
  },
  {
   "cell_type": "code",
   "execution_count": null,
   "metadata": {},
   "outputs": [],
   "source": [
    "for line in open(file_path):\n",
    "    print(line)"
   ]
  },
  {
   "cell_type": "markdown",
   "metadata": {},
   "source": [
    "if we split the line, because it's in a standard format, we get a parseable list"
   ]
  },
  {
   "cell_type": "code",
   "execution_count": null,
   "metadata": {},
   "outputs": [],
   "source": [
    "\n",
    "\n",
    "sample_line = (line.split() for line in open(file_path))\n",
    "\n",
    "print(next(sample_line))\n"
   ]
  },
  {
   "cell_type": "code",
   "execution_count": null,
   "metadata": {},
   "outputs": [],
   "source": []
  },
  {
   "cell_type": "markdown",
   "metadata": {},
   "source": [
    "We can use split to get the individual lines"
   ]
  },
  {
   "cell_type": "code",
   "execution_count": null,
   "metadata": {},
   "outputs": [],
   "source": [
    "timestamp = (line.split()[3:5] for line in open(file_path))\n",
    "\n",
    "result = (next(timestamp))\n",
    "\n",
    "result"
   ]
  },
  {
   "cell_type": "markdown",
   "metadata": {},
   "source": [
    "What type of object is that result? Is that a datetime we can use?"
   ]
  },
  {
   "cell_type": "markdown",
   "metadata": {},
   "source": [
    "## This section is trying to rewrite as a regular expression"
   ]
  },
  {
   "cell_type": "markdown",
   "metadata": {},
   "source": [
    "Create a test row of data for regular expression"
   ]
  },
  {
   "cell_type": "code",
   "execution_count": null,
   "metadata": {
    "scrolled": false
   },
   "outputs": [],
   "source": [
    "import re\n",
    "\n",
    "test_re = '95.79.246.153 - - [14/Aug/2017:09:36:00 -0700] \"GET /%7Eotangdec/cnit132/addguest.html HTTP/1.0\" 404 229\" http://hills.ccsf.cc.ca.us/%7Eotangdec/cnit132/addguest.html\" \"Mozilla/5.0 (Windows NT 5.1; rv:50.0) Gecko/20100101 Firefox/50.0'\n",
    "\n",
    "#ignoring timezone, the assumption is that the calculation being done for this exercise is in the timezone of the log\n",
    "results = re.search('(?<=\\[).{20}',test_re)\n",
    "\n",
    "results_str = results.group(0)\n",
    "\n",
    "results_str"
   ]
  },
  {
   "cell_type": "markdown",
   "metadata": {},
   "source": [
    "Convert to datetime and calculate seconds based on timestamp"
   ]
  },
  {
   "cell_type": "code",
   "execution_count": null,
   "metadata": {},
   "outputs": [],
   "source": [
    "from datetime import datetime\n",
    "results_dt = datetime.strptime(results_str, '%d/%b/%Y:%H:%M:%S')\n",
    "\n",
    "results_dt.hour * 60 * 60 + results_dt.minute * 60 + results_dt.second"
   ]
  },
  {
   "cell_type": "markdown",
   "metadata": {},
   "source": [
    "## vvv this is the final we'll need (work in progress)"
   ]
  },
  {
   "cell_type": "code",
   "execution_count": null,
   "metadata": {
    "scrolled": true
   },
   "outputs": [],
   "source": [
    "#define the file path\n",
    "#file_path = '/etc/httpd/logs/access_log'\n",
    "file_path = 'access_log'\n",
    "\n",
    "#create the generator to provide one line at a tim\n",
    "timestamp = (line.split()[3:5] for line in open(file_path))\n",
    "\n",
    "#This is written as a for loop so that larger chunks can be returned in the future.\n",
    "#error handling allows us to gracefully reach the end of the file\n",
    "for i in range(1):\n",
    "    try:\n",
    "        print(next(timestamp))\n",
    "    except StopIteration:\n",
    "        pass"
   ]
  },
  {
   "cell_type": "code",
   "execution_count": null,
   "metadata": {},
   "outputs": [],
   "source": []
  },
  {
   "cell_type": "code",
   "execution_count": 15,
   "metadata": {},
   "outputs": [
    {
     "name": "stderr",
     "output_type": "stream",
     "text": [
      "usage: ipykernel_launcher.py [-h] num_results\n",
      "ipykernel_launcher.py: error: unrecognized arguments: -f\n"
     ]
    },
    {
     "ename": "SystemExit",
     "evalue": "2",
     "output_type": "error",
     "traceback": [
      "An exception has occurred, use %tb to see the full traceback.\n",
      "\u001b[0;31mSystemExit\u001b[0m\u001b[0;31m:\u001b[0m 2\n"
     ]
    }
   ],
   "source": [
    "#define the file path\n",
    "#file_path = '/etc/httpd/logs/access_log'\n",
    "\n",
    "import re\n",
    "import argparse\n",
    "from datetime import datetime \n",
    "\n",
    "file_path = 'access_log_sample'\n",
    "\n",
    "def sec_from_midnight(time_str:str):\n",
    "    \"\"\"\n",
    "    This function converts the string containing a datetime in the access logs to a datetime object\n",
    "    and extracts the total number of seconds from the timestamp, representing number of seconds\n",
    "    since midnight\n",
    "    \n",
    "    Param:\n",
    "    timestr (str) --> The string containing time from the log\n",
    "    \n",
    "    Output:\n",
    "    sec_elapsed (int) --> The number of seconds elapsed \n",
    "    \n",
    "    \"\"\"\n",
    "    results_dt = datetime.strptime(time_str, '%d/%b/%Y:%H:%M:%S')\n",
    "    sec_elapsed = results_dt.hour * 60 * 60 + results_dt.minute * 60 + results_dt.second    \n",
    "    \n",
    "    return sec_elapsed\n",
    "\n",
    "def main(args):\n",
    "    \n",
    "    num_results = args.num_results\n",
    "    \n",
    "    #create the generator to provide one line at a time\n",
    "    #ignoring timezone, the assumption is that the calculation being done for this exercise is in the timezone of the log\n",
    "    timestamp = (re.search('(?<=\\[).{20}',line).group(0) for line in open(file_path))\n",
    "\n",
    "    #This is written as a for loop so that larger chunks can be returned in the future.\n",
    "    #error handling allows us to gracefully reach the end of the file\n",
    "    for _ in range(1):\n",
    "        try:\n",
    "            curr_timestamp = next(timestamp)\n",
    "            sec_elapsed = sec_from_midnight(curr_timestamp)\n",
    "\n",
    "            print(curr_timestamp, sec_elapsed)\n",
    "        except StopIteration:\n",
    "            pass\n",
    "        \n",
    "if __name__ == '__main__':\n",
    "    parser = argparse.ArgumentParser(description='Parses a file and returns datetime and seconds since midnight from log')\n",
    "    parser.add_argument('num_results', help='Optional argument for number of results returned')\n",
    "    args = parser.parse_args()\n",
    "\n",
    "    main(args)"
   ]
  },
  {
   "cell_type": "markdown",
   "metadata": {},
   "source": [
    "Looks like argparse can't run from pycharm"
   ]
  },
  {
   "cell_type": "code",
   "execution_count": null,
   "metadata": {},
   "outputs": [],
   "source": [
    "#TODO make this an application , with a main() function\n",
    "#TODO adjust to original file path"
   ]
  },
  {
   "cell_type": "markdown",
   "metadata": {},
   "source": [
    "The requirement is technically for a generator, so we should make the function above into a generator"
   ]
  },
  {
   "cell_type": "code",
   "execution_count": 19,
   "metadata": {},
   "outputs": [],
   "source": [
    "file_path = 'access_log_sample'\n",
    "\n",
    "def sec_from_midnight(file_path: str):\n",
    "    \"\"\"\n",
    "    This function converts the string containing a datetime in the access logs to a datetime object\n",
    "    and extracts the total number of seconds from the timestamp, representing number of seconds\n",
    "    since midnight\n",
    "\n",
    "    Param:\n",
    "    timestr (str) --> The string containing time from the log\n",
    "\n",
    "    Output:\n",
    "    sec_elapsed (int) --> The number of seconds elapsed\n",
    "\n",
    "    \"\"\"\n",
    "\n",
    "    for line in open(file_path):\n",
    "        timestamp = re.search('(?<=\\[).{20}', line).group(0)\n",
    "\n",
    "        results_dt = datetime.strptime(timestamp, '%d/%b/%Y:%H:%M:%S')\n",
    "        sec_elapsed = results_dt.hour * 60 * 60 + results_dt.minute * 60 + results_dt.second\n",
    "\n",
    "    yield timestamp, sec_elapsed\n"
   ]
  },
  {
   "cell_type": "code",
   "execution_count": null,
   "metadata": {},
   "outputs": [],
   "source": []
  }
 ],
 "metadata": {
  "kernelspec": {
   "display_name": "Python 3",
   "language": "python",
   "name": "python3"
  },
  "language_info": {
   "codemirror_mode": {
    "name": "ipython",
    "version": 3
   },
   "file_extension": ".py",
   "mimetype": "text/x-python",
   "name": "python",
   "nbconvert_exporter": "python",
   "pygments_lexer": "ipython3",
   "version": "3.7.6"
  }
 },
 "nbformat": 4,
 "nbformat_minor": 4
}
