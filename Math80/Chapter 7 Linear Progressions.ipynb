{
 "cells": [
  {
   "cell_type": "raw",
   "metadata": {},
   "source": [
    "Linear models are designed to minimize the difference between all points and the predicted line, and the equation for the model can be used to predict values based on independent (explanatory) variables.\n",
    "\n",
    "The predicted value is written as y-hat(ˆy) to disctrinush from y, the observed value. The difference between predicted and observed (y-ˆy) is the residual"
   ]
  },
  {
   "attachments": {
    "residuals-300x186.png": {
     "image/png": "[encoded data removed]"
    }
   },
   "cell_type": "markdown",
   "metadata": {},
   "source": [
    "![residuals-300x186.png](attachment:residuals-300x186.png)"
   ]
  },
  {
   "cell_type": "markdown",
   "metadata": {},
   "source": [
    "When comparing how well the line fits, we compare residuals. However, as some are positive and some negative, the resisuals need to be squared, which has the side bonus of emphasizing poorly fit points with high residuals. \n",
    "\n",
    "This is why the line of best points is called the \"least squares\" line, where the sum of squares is smallest"
   ]
  },
  {
   "cell_type": "markdown",
   "metadata": {},
   "source": [
    "### Exercise: \n",
    "Create sample data, plot the regresssion. Create a least squares function using the math at this website, did you get the same result? \n",
    "\n",
    "https://www.mathsisfun.com/data/least-squares-regression.html\n",
    "    "
   ]
  },
  {
   "cell_type": "markdown",
   "metadata": {},
   "source": [
    "## 7.2 The Linear Model"
   ]
  },
  {
   "cell_type": "markdown",
   "metadata": {},
   "source": [
    "y= mx + b\n",
    "\n",
    "or in the stats world: \n",
    "\n",
    "$\\widehat{y}$  = $b_{0}$ + $b_{1}$x \n",
    "where $b_{0}$ is the intercept and $b_{1}$ is the slope"
   ]
  },
  {
   "cell_type": "markdown",
   "metadata": {},
   "source": [
    "## Finding the Least Squares Line\n",
    "\n",
    "The slope of the least squares line is the correlation (to tell us the strength of the association), the standard deviations (to give us the units) and the means (to tell us where to put the line)\n",
    "\n",
    "$b_{1}$ = r$\\dfrac{s_{y}}{s_{x}}$\n",
    "\n",
    "The correlation gives us the direction, which is inherited here"
   ]
  },
  {
   "cell_type": "code",
   "execution_count": null,
   "metadata": {},
   "outputs": [],
   "source": []
  }
 ],
 "metadata": {
  "kernelspec": {
   "display_name": "Python 3",
   "language": "python",
   "name": "python3"
  },
  "language_info": {
   "codemirror_mode": {
    "name": "ipython",
    "version": 3
   },
   "file_extension": ".py",
   "mimetype": "text/x-python",
   "name": "python",
   "nbconvert_exporter": "python",
   "pygments_lexer": "ipython3",
   "version": "3.7.6"
  }
 },
 "nbformat": 4,
 "nbformat_minor": 4
}
